{
 "cells": [
  {
   "cell_type": "code",
   "execution_count": 1,
   "id": "6b381448",
   "metadata": {},
   "outputs": [],
   "source": [
    "import sqlite3\n",
    "import pandas as pd\n",
    "\n",
    "df = pd.read_csv('C:/Users/Shivang/Downloads/fraudTest.csv/fraudTest.csv')"
   ]
  },
  {
   "cell_type": "code",
   "execution_count": 2,
   "id": "3b262717",
   "metadata": {},
   "outputs": [],
   "source": [
    "conn = sqlite3.connect('fraddb.db')"
   ]
  },
  {
   "cell_type": "code",
   "execution_count": 3,
   "id": "e41743d1",
   "metadata": {},
   "outputs": [],
   "source": [
    "df.to_sql(name = \"fraudTest\", con = conn, if_exists = 'replace', index = False)\n",
    "conn.commit()\n",
    "df = pd.read_sql_query(\"SELECT * FROM fraudTest\", conn)\n",
    "conn.close()"
   ]
  },
  {
   "cell_type": "code",
   "execution_count": 4,
   "id": "c7fe4edc",
   "metadata": {},
   "outputs": [],
   "source": [
    "from vanna.ollama import Ollama\n",
    "from vanna.chromadb import ChromaDB_VectorStore"
   ]
  },
  {
   "cell_type": "code",
   "execution_count": 7,
   "id": "e5d8ce15",
   "metadata": {},
   "outputs": [],
   "source": [
    "# ollama run llama3.1"
   ]
  },
  {
   "cell_type": "code",
   "execution_count": 5,
   "id": "0ca0c81c",
   "metadata": {},
   "outputs": [],
   "source": [
    "class MyVanna(ChromaDB_VectorStore, Ollama):\n",
    "    def __init__(self, config=None):\n",
    "        ChromaDB_VectorStore.__init__(self, config=config)\n",
    "        Ollama.__init__(self, config=config)"
   ]
  },
  {
   "cell_type": "code",
   "execution_count": 6,
   "id": "ba073a70",
   "metadata": {},
   "outputs": [],
   "source": [
    "vn = MyVanna(config={'model':'llama3.1'})"
   ]
  },
  {
   "cell_type": "code",
   "execution_count": 7,
   "id": "ad315065",
   "metadata": {},
   "outputs": [],
   "source": [
    "vn.connect_to_sqlite('fraddb.db')"
   ]
  },
  {
   "cell_type": "code",
   "execution_count": 8,
   "id": "54d1e0d7",
   "metadata": {},
   "outputs": [],
   "source": [
    "df_ddl = vn.run_sql(\"SELECT type, sql FROM sqlite_master WHERE sql is not null\")"
   ]
  },
  {
   "cell_type": "code",
   "execution_count": 9,
   "id": "f0f576fd",
   "metadata": {},
   "outputs": [
    {
     "name": "stdout",
     "output_type": "stream",
     "text": [
      "Adding ddl: CREATE TABLE \"fraudTest\" (\n",
      "\"Unnamed: 0\" INTEGER,\n",
      "  \"trans_date_trans_time\" TEXT,\n",
      "  \"cc_num\" INTEGER,\n",
      "  \"merchant\" TEXT,\n",
      "  \"category\" TEXT,\n",
      "  \"amt\" REAL,\n",
      "  \"first\" TEXT,\n",
      "  \"last\" TEXT,\n",
      "  \"gender\" TEXT,\n",
      "  \"street\" TEXT,\n",
      "  \"city\" TEXT,\n",
      "  \"state\" TEXT,\n",
      "  \"zip\" INTEGER,\n",
      "  \"lat\" REAL,\n",
      "  \"long\" REAL,\n",
      "  \"city_pop\" INTEGER,\n",
      "  \"job\" TEXT,\n",
      "  \"dob\" TEXT,\n",
      "  \"trans_num\" TEXT,\n",
      "  \"unix_time\" INTEGER,\n",
      "  \"merch_lat\" REAL,\n",
      "  \"merch_long\" REAL,\n",
      "  \"is_fraud\" INTEGER\n",
      ")\n"
     ]
    },
    {
     "name": "stderr",
     "output_type": "stream",
     "text": [
      "Add of existing embedding ID: 8bcfb2e2-4095-512b-b42d-49b4b2fb6425-ddl\n",
      "Insert of existing embedding ID: 8bcfb2e2-4095-512b-b42d-49b4b2fb6425-ddl\n",
      "Add of existing embedding ID: 8bcfb2e2-4095-512b-b42d-49b4b2fb6425-ddl\n"
     ]
    }
   ],
   "source": [
    "for ddl in df_ddl['sql'].to_list():\n",
    "    vn.train(ddl=ddl)"
   ]
  },
  {
   "cell_type": "code",
   "execution_count": 13,
   "id": "e746a047",
   "metadata": {},
   "outputs": [
    {
     "data": {
      "text/html": [
       "<div>\n",
       "<style scoped>\n",
       "    .dataframe tbody tr th:only-of-type {\n",
       "        vertical-align: middle;\n",
       "    }\n",
       "\n",
       "    .dataframe tbody tr th {\n",
       "        vertical-align: top;\n",
       "    }\n",
       "\n",
       "    .dataframe thead th {\n",
       "        text-align: right;\n",
       "    }\n",
       "</style>\n",
       "<table border=\"1\" class=\"dataframe\">\n",
       "  <thead>\n",
       "    <tr style=\"text-align: right;\">\n",
       "      <th></th>\n",
       "      <th>id</th>\n",
       "      <th>question</th>\n",
       "      <th>content</th>\n",
       "      <th>training_data_type</th>\n",
       "    </tr>\n",
       "  </thead>\n",
       "  <tbody>\n",
       "    <tr>\n",
       "      <th>0</th>\n",
       "      <td>1d7779b1-018a-5b03-b7ee-3cae140f478b-sql</td>\n",
       "      <td>How many categories are present?</td>\n",
       "      <td>SELECT COUNT(DISTINCT category) FROM fraudTest</td>\n",
       "      <td>sql</td>\n",
       "    </tr>\n",
       "    <tr>\n",
       "      <th>0</th>\n",
       "      <td>8bcfb2e2-4095-512b-b42d-49b4b2fb6425-ddl</td>\n",
       "      <td>None</td>\n",
       "      <td>CREATE TABLE \"fraudTest\" (\\n\"Unnamed: 0\" INTEG...</td>\n",
       "      <td>ddl</td>\n",
       "    </tr>\n",
       "  </tbody>\n",
       "</table>\n",
       "</div>"
      ],
      "text/plain": [
       "                                         id                          question  \\\n",
       "0  1d7779b1-018a-5b03-b7ee-3cae140f478b-sql  How many categories are present?   \n",
       "0  8bcfb2e2-4095-512b-b42d-49b4b2fb6425-ddl                              None   \n",
       "\n",
       "                                             content training_data_type  \n",
       "0     SELECT COUNT(DISTINCT category) FROM fraudTest                sql  \n",
       "0  CREATE TABLE \"fraudTest\" (\\n\"Unnamed: 0\" INTEG...                ddl  "
      ]
     },
     "execution_count": 13,
     "metadata": {},
     "output_type": "execute_result"
    }
   ],
   "source": [
    "training_data = vn.get_training_data()\n",
    "training_data"
   ]
  },
  {
   "cell_type": "code",
   "execution_count": null,
   "id": "71aee48e",
   "metadata": {},
   "outputs": [
    {
     "name": "stderr",
     "output_type": "stream",
     "text": [
      "Number of requested results 10 is greater than number of elements in index 1, updating n_results = 1\n"
     ]
    },
    {
     "name": "stdout",
     "output_type": "stream",
     "text": [
      "SQL Prompt: [{'role': 'system', 'content': 'You are a SQLite expert. Please help to generate a SQL query to answer the question. Your response should ONLY be based on the given context and follow the response guidelines and format instructions. \\n===Tables \\nCREATE TABLE \"fraudTest\" (\\n\"Unnamed: 0\" INTEGER,\\n  \"trans_date_trans_time\" TEXT,\\n  \"cc_num\" INTEGER,\\n  \"merchant\" TEXT,\\n  \"category\" TEXT,\\n  \"amt\" REAL,\\n  \"first\" TEXT,\\n  \"last\" TEXT,\\n  \"gender\" TEXT,\\n  \"street\" TEXT,\\n  \"city\" TEXT,\\n  \"state\" TEXT,\\n  \"zip\" INTEGER,\\n  \"lat\" REAL,\\n  \"long\" REAL,\\n  \"city_pop\" INTEGER,\\n  \"job\" TEXT,\\n  \"dob\" TEXT,\\n  \"trans_num\" TEXT,\\n  \"unix_time\" INTEGER,\\n  \"merch_lat\" REAL,\\n  \"merch_long\" REAL,\\n  \"is_fraud\" INTEGER\\n)\\n\\n===Response Guidelines \\n1. If the provided context is sufficient, please generate a valid SQL query without any explanations for the question. \\n2. If the provided context is almost sufficient but requires knowledge of a specific string in a particular column, please generate an intermediate SQL query to find the distinct strings in that column. Prepend the query with a comment saying intermediate_sql \\n3. If the provided context is insufficient, please explain why it can\\'t be generated. \\n4. Please use the most relevant table(s). \\n5. If the question has been asked and answered before, please repeat the answer exactly as it was given before. \\n6. Ensure that the output SQL is SQLite-compliant and executable, and free of syntax errors. \\n'}, {'role': 'user', 'content': 'How many categories are present?'}]\n",
      "Info: Ollama parameters:\n",
      "model=llama3.1:latest,\n",
      "options={},\n",
      "keep_alive=None\n",
      "Info: Prompt Content:\n",
      "[{\"role\": \"system\", \"content\": \"You are a SQLite expert. Please help to generate a SQL query to answer the question. Your response should ONLY be based on the given context and follow the response guidelines and format instructions. \\n===Tables \\nCREATE TABLE \\\"fraudTest\\\" (\\n\\\"Unnamed: 0\\\" INTEGER,\\n  \\\"trans_date_trans_time\\\" TEXT,\\n  \\\"cc_num\\\" INTEGER,\\n  \\\"merchant\\\" TEXT,\\n  \\\"category\\\" TEXT,\\n  \\\"amt\\\" REAL,\\n  \\\"first\\\" TEXT,\\n  \\\"last\\\" TEXT,\\n  \\\"gender\\\" TEXT,\\n  \\\"street\\\" TEXT,\\n  \\\"city\\\" TEXT,\\n  \\\"state\\\" TEXT,\\n  \\\"zip\\\" INTEGER,\\n  \\\"lat\\\" REAL,\\n  \\\"long\\\" REAL,\\n  \\\"city_pop\\\" INTEGER,\\n  \\\"job\\\" TEXT,\\n  \\\"dob\\\" TEXT,\\n  \\\"trans_num\\\" TEXT,\\n  \\\"unix_time\\\" INTEGER,\\n  \\\"merch_lat\\\" REAL,\\n  \\\"merch_long\\\" REAL,\\n  \\\"is_fraud\\\" INTEGER\\n)\\n\\n===Response Guidelines \\n1. If the provided context is sufficient, please generate a valid SQL query without any explanations for the question. \\n2. If the provided context is almost sufficient but requires knowledge of a specific string in a particular column, please generate an intermediate SQL query to find the distinct strings in that column. Prepend the query with a comment saying intermediate_sql \\n3. If the provided context is insufficient, please explain why it can't be generated. \\n4. Please use the most relevant table(s). \\n5. If the question has been asked and answered before, please repeat the answer exactly as it was given before. \\n6. Ensure that the output SQL is SQLite-compliant and executable, and free of syntax errors. \\n\"}, {\"role\": \"user\", \"content\": \"How many categories are present?\"}]\n",
      "Info: Ollama Response:\n",
      "{'model': 'llama3.1:latest', 'created_at': '2024-10-07T02:09:42.9771446Z', 'message': {'role': 'assistant', 'content': 'SELECT COUNT(DISTINCT category) FROM fraudTest'}, 'done_reason': 'stop', 'done': True, 'total_duration': 13349363100, 'load_duration': 5974077200, 'prompt_eval_count': 373, 'prompt_eval_duration': 5506148000, 'eval_count': 11, 'eval_duration': 1861821000}\n",
      "LLM Response: SELECT COUNT(DISTINCT category) FROM fraudTest\n",
      "SELECT COUNT(DISTINCT category) FROM fraudTest\n",
      "   COUNT(DISTINCT category)\n",
      "0                        14\n",
      "Info: Ollama parameters:\n",
      "model=llama3.1:latest,\n",
      "options={},\n",
      "keep_alive=None\n",
      "Info: Prompt Content:\n",
      "[{\"role\": \"system\", \"content\": \"The following is a pandas DataFrame that contains the results of the query that answers the question the user asked: 'How many categories are present?'\\n\\nThe DataFrame was produced using this query: SELECT COUNT(DISTINCT category) FROM fraudTest\\n\\nThe following is information about the resulting pandas DataFrame 'df': \\nRunning df.dtypes gives:\\n COUNT(DISTINCT category)    int64\\ndtype: object\"}, {\"role\": \"user\", \"content\": \"Can you generate the Python plotly code to chart the results of the dataframe? Assume the data is in a pandas dataframe called 'df'. If there is only one value in the dataframe, use an Indicator. Respond with only Python code. Do not answer with any explanations -- just the code.\"}]\n",
      "Info: Ollama Response:\n",
      "{'model': 'llama3.1:latest', 'created_at': '2024-10-07T02:09:58.736031Z', 'message': {'role': 'assistant', 'content': \"```python\\nimport plotly.express as px\\n\\nif len(df) == 1:\\n    fig = px.bar(x=['Category Count'], y=df['COUNT(DISTINCT category)'].values)\\nelse:\\n    fig = px.bar(df, x='COUNT(DISTINCT category)')\\n\\nfig.show()\\n```\"}, 'done_reason': 'stop', 'done': True, 'total_duration': 15264417200, 'load_duration': 29041800, 'prompt_eval_count': 153, 'prompt_eval_duration': 2510933000, 'eval_count': 64, 'eval_duration': 12722031000}\n"
     ]
    }
   ],
   "source": [
    "vn.ask(question = \"How many categories are present?\")"
   ]
  },
  {
   "cell_type": "raw",
   "id": "f8f1a3af",
   "metadata": {},
   "source": [
    "from vanna.flash import VannaFlaskApp\n",
    "app = VannaFlaskApp(vn)\n",
    "app.run()"
   ]
  },
  {
   "cell_type": "code",
   "execution_count": 15,
   "id": "3d565ed3",
   "metadata": {},
   "outputs": [
    {
     "name": "stdout",
     "output_type": "stream",
     "text": [
      "Your app is running at:\n",
      "http://localhost:8084\n",
      " * Serving Flask app 'vanna.flask'\n",
      " * Debug mode: on\n"
     ]
    },
    {
     "name": "stderr",
     "output_type": "stream",
     "text": [
      "Number of requested results 10 is greater than number of elements in index 1, updating n_results = 1\n",
      "Number of requested results 10 is greater than number of elements in index 1, updating n_results = 1\n",
      "Number of requested results 10 is greater than number of elements in index 1, updating n_results = 1\n",
      "Number of requested results 10 is greater than number of elements in index 1, updating n_results = 1\n",
      "Number of requested results 10 is greater than number of elements in index 1, updating n_results = 1\n",
      "Number of requested results 10 is greater than number of elements in index 1, updating n_results = 1\n"
     ]
    },
    {
     "name": "stdout",
     "output_type": "stream",
     "text": [
      "Adding documentation....\n"
     ]
    },
    {
     "name": "stderr",
     "output_type": "stream",
     "text": [
      "Number of requested results 10 is greater than number of elements in index 1, updating n_results = 1\n",
      "Number of requested results 10 is greater than number of elements in index 1, updating n_results = 1\n",
      "Number of requested results 10 is greater than number of elements in index 1, updating n_results = 1\n"
     ]
    },
    {
     "name": "stdout",
     "output_type": "stream",
     "text": [
      "Question generated with sql: What are all the details of every single suspicious transaction? \n",
      "Adding SQL...\n",
      "Question generated with sql: What is the total number of transactions that are suspected to be fraudulent? \n",
      "Adding SQL...\n",
      "Question generated with sql: What transactions have been identified as fraudulent? \n",
      "Adding SQL...\n",
      "Question generated with sql: What is the total number of transactions that are and are not considered fraudulent? \n",
      "Adding SQL...\n",
      "Question generated with sql: What are the top 10 transactions with the highest amounts that may be suspicious? \n",
      "Adding SQL...\n",
      "Question generated with sql: What are the top categories by number of transactions with their total amount spent? \n",
      "Adding SQL...\n",
      "Question generated with sql: What are the average transaction amounts for each gender group? \n",
      "Adding SQL...\n",
      "Question generated with sql: Which merchants have been involved in the most transactions resulting in the highest total amount of money being spent? \n",
      "Adding SQL...\n",
      "Question generated with sql: Which cities have the most reported cases of fraudulent transactions? \n",
      "Adding SQL...\n",
      "Question generated with sql: What are all the transactions between June 1st and June 30th, 2020 that were potentially fraudulent? \n",
      "Adding SQL...\n",
      "Question generated with sql: What percentage of transactions in each city are fraudulent? \n",
      "Adding SQL...\n",
      "Question generated with sql: What are the top 10 jobs with the highest rates of fraudulent transactions? \n",
      "Adding SQL...\n",
      "Question generated with sql: What is the average daily transaction amount for all transactions? \n",
      "Adding SQL...\n",
      "Question generated with sql: Which states have the most frequent occurrences of fraudulent transactions? \n",
      "Adding SQL...\n",
      "Question generated with sql: What are the hourly volumes of transactions with the highest number of transactions first? \n",
      "Adding SQL...\n",
      "Question generated with sql: What are all credit card numbers associated with at least two instances of fraudulent activity? \n",
      "Adding SQL...\n",
      "Question generated with sql: What are the top 3 most expensive transactions by category? \n",
      "Adding SQL...\n",
      "Question generated with sql: What is the amount and date of each transaction on a credit card where the current transaction's amount is more than $500 greater than the previous transaction's amount? \n",
      "Adding SQL...\n",
      "Question generated with sql: What percentage of transactions in each city are fraudulent, and which cities have the highest rates? \n",
      "Adding SQL...\n",
      "Question generated with sql: What is the total number of transactions and their corresponding count for each day in each city, ordered by city and date? \n",
      "Adding SQL...\n"
     ]
    },
    {
     "name": "stderr",
     "output_type": "stream",
     "text": [
      "Number of requested results 10 is greater than number of elements in index 1, updating n_results = 1\n",
      "Number of requested results 10 is greater than number of elements in index 1, updating n_results = 1\n",
      "Number of requested results 10 is greater than number of elements in index 1, updating n_results = 1\n",
      "Number of requested results 10 is greater than number of elements in index 1, updating n_results = 1\n",
      "Number of requested results 10 is greater than number of elements in index 1, updating n_results = 1\n",
      "Number of requested results 10 is greater than number of elements in index 1, updating n_results = 1\n",
      "Number of requested results 10 is greater than number of elements in index 1, updating n_results = 1\n",
      "Number of requested results 10 is greater than number of elements in index 1, updating n_results = 1\n",
      "Number of requested results 10 is greater than number of elements in index 1, updating n_results = 1\n",
      "Number of requested results 10 is greater than number of elements in index 1, updating n_results = 1\n",
      "Number of requested results 10 is greater than number of elements in index 1, updating n_results = 1\n",
      "Number of requested results 10 is greater than number of elements in index 1, updating n_results = 1\n",
      "Number of requested results 10 is greater than number of elements in index 1, updating n_results = 1\n",
      "Number of requested results 10 is greater than number of elements in index 1, updating n_results = 1\n",
      "Number of requested results 10 is greater than number of elements in index 1, updating n_results = 1\n",
      "Number of requested results 10 is greater than number of elements in index 1, updating n_results = 1\n",
      "Number of requested results 10 is greater than number of elements in index 1, updating n_results = 1\n",
      "Number of requested results 10 is greater than number of elements in index 1, updating n_results = 1\n",
      "Number of requested results 10 is greater than number of elements in index 1, updating n_results = 1\n",
      "Number of requested results 10 is greater than number of elements in index 1, updating n_results = 1\n",
      "Number of requested results 10 is greater than number of elements in index 1, updating n_results = 1\n",
      "Number of requested results 10 is greater than number of elements in index 1, updating n_results = 1\n"
     ]
    }
   ],
   "source": [
    "from vanna.flask import VannaFlaskApp\n",
    "app = VannaFlaskApp(vn)\n",
    "app.run()"
   ]
  },
  {
   "cell_type": "code",
   "execution_count": null,
   "id": "6b7395f1",
   "metadata": {},
   "outputs": [],
   "source": []
  }
 ],
 "metadata": {
  "kernelspec": {
   "display_name": "Python 3 (ipykernel)",
   "language": "python",
   "name": "python3"
  },
  "language_info": {
   "codemirror_mode": {
    "name": "ipython",
    "version": 3
   },
   "file_extension": ".py",
   "mimetype": "text/x-python",
   "name": "python",
   "nbconvert_exporter": "python",
   "pygments_lexer": "ipython3",
   "version": "3.10.7"
  }
 },
 "nbformat": 4,
 "nbformat_minor": 5
}
